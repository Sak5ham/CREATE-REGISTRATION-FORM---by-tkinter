{
 "cells": [
  {
   "cell_type": "code",
   "execution_count": 20,
   "metadata": {
    "collapsed": false
   },
   "outputs": [],
   "source": [
    "from tkinter import *\n",
    "\n",
    "root = Tk()\n",
    "root.title(\"Registration\")\n",
    "root.geometry(\"600x470\")\n",
    "root.resizable(False,False)\n",
    "\n",
    "def register():\n",
    "    name_info=nameValue.get()\n",
    "    phone_info=phoneValue.get() \n",
    "    gender_info=genderValue.get() \n",
    "    email_info=emailValue.get()\n",
    "\n",
    "    file=open(name_info + \".txt\",\"w\")\n",
    "    file.write(name_info + \"\\n\")\n",
    "    file.write(phone_info + \"\\n\")\n",
    "    file.write(gender_info + \"\\n\")\n",
    "    file.write(email_info + \"\\n\")\n",
    "    file.close()\n",
    "    \n",
    "    nameEntry.delete(0,END)\n",
    "    phoneEntry.delete(0,END)\n",
    "    genderEntry.delete(0,END)\n",
    "    emailEntry.delete(0,END)\n",
    "    \n",
    "    \n",
    "    Label(text=\"Registration sucess\",fg=\"green\",font=(\"calibri\",11)).place(x=250,y=430)\n",
    "\n",
    "Label(root,text=\"PYTHON REGISTRATION FORM\",font= \"areial 25\").pack(pady=50)\n",
    "\n",
    "\n",
    "Label(text=\"Name\",font=23).place(x=100,y=150)\n",
    "Label(text=\"phone\",font=23).place(x=100,y=200)\n",
    "Label(text=\"Gender\",font=23).place(x=100,y=250)\n",
    "Label(text=\"Email\",font=23).place(x=100,y=300)\n",
    "\n",
    "\n",
    "#entry\n",
    "nameValue=StringVar()\n",
    "phoneValue=StringVar()\n",
    "genderValue=StringVar()\n",
    "emailValue=StringVar()\n",
    "\n",
    "nameEntry=Entry(root,textvariable=nameValue,width=30,bd=2,font=20)\n",
    "phoneEntry=Entry(root,textvariable=phoneValue,width=30,bd=2,font=20)\n",
    "genderEntry=Entry(root,textvariable=genderValue,width=30,bd=2,font=20)\n",
    "emailEntry=Entry(root,textvariable=emailValue,width=30,bd=2,font=20)\n",
    "\n",
    "\n",
    "nameEntry.place(x=200,y=150)\n",
    "phoneEntry.place(x=200,y=200)\n",
    "genderEntry.place(x=200,y=250)\n",
    "emailEntry.place(x=200,y=300)\n",
    "\n",
    "\n",
    "# check button\n",
    "checkValue=IntVar\n",
    "checkbtn=Checkbutton(text=\"remember me ?\",variable=checkValue)\n",
    "checkbtn.place(x=200,y=340)\n",
    "\n",
    "Button(text=\"Register\",font=20,width=11,height=2,command=register).place(x=250,y=380)\n",
    "\n",
    "\n",
    "\n",
    "\n",
    "\n",
    "root.mainloop()"
   ]
  },
  {
   "cell_type": "code",
   "execution_count": null,
   "metadata": {
    "collapsed": true
   },
   "outputs": [],
   "source": []
  },
  {
   "cell_type": "code",
   "execution_count": null,
   "metadata": {
    "collapsed": true
   },
   "outputs": [],
   "source": []
  },
  {
   "cell_type": "code",
   "execution_count": null,
   "metadata": {
    "collapsed": true
   },
   "outputs": [],
   "source": []
  },
  {
   "cell_type": "code",
   "execution_count": null,
   "metadata": {
    "collapsed": true
   },
   "outputs": [],
   "source": []
  },
  {
   "cell_type": "code",
   "execution_count": null,
   "metadata": {
    "collapsed": true
   },
   "outputs": [],
   "source": []
  },
  {
   "cell_type": "code",
   "execution_count": null,
   "metadata": {
    "collapsed": true
   },
   "outputs": [],
   "source": []
  },
  {
   "cell_type": "code",
   "execution_count": null,
   "metadata": {
    "collapsed": true
   },
   "outputs": [],
   "source": []
  },
  {
   "cell_type": "code",
   "execution_count": null,
   "metadata": {
    "collapsed": true
   },
   "outputs": [],
   "source": []
  },
  {
   "cell_type": "code",
   "execution_count": null,
   "metadata": {
    "collapsed": true
   },
   "outputs": [],
   "source": []
  },
  {
   "cell_type": "code",
   "execution_count": null,
   "metadata": {
    "collapsed": true
   },
   "outputs": [],
   "source": []
  }
 ],
 "metadata": {
  "kernelspec": {
   "display_name": "Python 3",
   "language": "python",
   "name": "python3"
  },
  "language_info": {
   "codemirror_mode": {
    "name": "ipython",
    "version": 3
   },
   "file_extension": ".py",
   "mimetype": "text/x-python",
   "name": "python",
   "nbconvert_exporter": "python",
   "pygments_lexer": "ipython3",
   "version": "3.6.0"
  }
 },
 "nbformat": 4,
 "nbformat_minor": 2
}
